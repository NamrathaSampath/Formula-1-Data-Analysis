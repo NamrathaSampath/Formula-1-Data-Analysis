{
 "cells": [
  {
   "cell_type": "code",
   "execution_count": 13,
   "metadata": {},
   "outputs": [],
   "source": [
    "import pandas as pd\n",
    "df = pd.read_csv('Lap_Time.csv')"
   ]
  },
  {
   "cell_type": "code",
   "execution_count": 14,
   "metadata": {
    "scrolled": true
   },
   "outputs": [
    {
     "data": {
      "text/html": [
       "<div>\n",
       "<style scoped>\n",
       "    .dataframe tbody tr th:only-of-type {\n",
       "        vertical-align: middle;\n",
       "    }\n",
       "\n",
       "    .dataframe tbody tr th {\n",
       "        vertical-align: top;\n",
       "    }\n",
       "\n",
       "    .dataframe thead th {\n",
       "        text-align: right;\n",
       "    }\n",
       "</style>\n",
       "<table border=\"1\" class=\"dataframe\">\n",
       "  <thead>\n",
       "    <tr style=\"text-align: right;\">\n",
       "      <th></th>\n",
       "      <th>lapId</th>\n",
       "      <th>raceId</th>\n",
       "      <th>driverId</th>\n",
       "      <th>no_lap</th>\n",
       "      <th>position</th>\n",
       "      <th>time_secs</th>\n",
       "      <th>milliseconds</th>\n",
       "      <th>circuitID</th>\n",
       "      <th>Year</th>\n",
       "    </tr>\n",
       "  </thead>\n",
       "  <tbody>\n",
       "    <tr>\n",
       "      <th>15086</th>\n",
       "      <td>418514</td>\n",
       "      <td>980</td>\n",
       "      <td>825</td>\n",
       "      <td>35</td>\n",
       "      <td>17</td>\n",
       "      <td>124.49</td>\n",
       "      <td>124486</td>\n",
       "      <td>13</td>\n",
       "      <td>2017</td>\n",
       "    </tr>\n",
       "    <tr>\n",
       "      <th>15087</th>\n",
       "      <td>418515</td>\n",
       "      <td>980</td>\n",
       "      <td>825</td>\n",
       "      <td>36</td>\n",
       "      <td>17</td>\n",
       "      <td>109.13</td>\n",
       "      <td>109126</td>\n",
       "      <td>13</td>\n",
       "      <td>2017</td>\n",
       "    </tr>\n",
       "    <tr>\n",
       "      <th>15088</th>\n",
       "      <td>418516</td>\n",
       "      <td>980</td>\n",
       "      <td>825</td>\n",
       "      <td>37</td>\n",
       "      <td>17</td>\n",
       "      <td>109.25</td>\n",
       "      <td>109253</td>\n",
       "      <td>13</td>\n",
       "      <td>2017</td>\n",
       "    </tr>\n",
       "    <tr>\n",
       "      <th>15089</th>\n",
       "      <td>418517</td>\n",
       "      <td>980</td>\n",
       "      <td>825</td>\n",
       "      <td>38</td>\n",
       "      <td>17</td>\n",
       "      <td>110.10</td>\n",
       "      <td>110101</td>\n",
       "      <td>13</td>\n",
       "      <td>2017</td>\n",
       "    </tr>\n",
       "    <tr>\n",
       "      <th>15090</th>\n",
       "      <td>418518</td>\n",
       "      <td>980</td>\n",
       "      <td>825</td>\n",
       "      <td>39</td>\n",
       "      <td>17</td>\n",
       "      <td>110.38</td>\n",
       "      <td>110383</td>\n",
       "      <td>13</td>\n",
       "      <td>2017</td>\n",
       "    </tr>\n",
       "    <tr>\n",
       "      <th>15091</th>\n",
       "      <td>418519</td>\n",
       "      <td>980</td>\n",
       "      <td>825</td>\n",
       "      <td>40</td>\n",
       "      <td>17</td>\n",
       "      <td>110.33</td>\n",
       "      <td>110327</td>\n",
       "      <td>13</td>\n",
       "      <td>2017</td>\n",
       "    </tr>\n",
       "    <tr>\n",
       "      <th>15092</th>\n",
       "      <td>418520</td>\n",
       "      <td>980</td>\n",
       "      <td>825</td>\n",
       "      <td>41</td>\n",
       "      <td>17</td>\n",
       "      <td>110.20</td>\n",
       "      <td>110202</td>\n",
       "      <td>13</td>\n",
       "      <td>2017</td>\n",
       "    </tr>\n",
       "    <tr>\n",
       "      <th>15093</th>\n",
       "      <td>418521</td>\n",
       "      <td>980</td>\n",
       "      <td>825</td>\n",
       "      <td>42</td>\n",
       "      <td>16</td>\n",
       "      <td>110.44</td>\n",
       "      <td>110441</td>\n",
       "      <td>13</td>\n",
       "      <td>2017</td>\n",
       "    </tr>\n",
       "    <tr>\n",
       "      <th>15094</th>\n",
       "      <td>418522</td>\n",
       "      <td>980</td>\n",
       "      <td>825</td>\n",
       "      <td>43</td>\n",
       "      <td>16</td>\n",
       "      <td>111.02</td>\n",
       "      <td>111017</td>\n",
       "      <td>13</td>\n",
       "      <td>2017</td>\n",
       "    </tr>\n",
       "    <tr>\n",
       "      <th>15095</th>\n",
       "      <td>418523</td>\n",
       "      <td>980</td>\n",
       "      <td>825</td>\n",
       "      <td>44</td>\n",
       "      <td>15</td>\n",
       "      <td>110.57</td>\n",
       "      <td>110565</td>\n",
       "      <td>13</td>\n",
       "      <td>2017</td>\n",
       "    </tr>\n",
       "  </tbody>\n",
       "</table>\n",
       "</div>"
      ],
      "text/plain": [
       "        lapId  raceId  driverId  no_lap  position  time_secs  milliseconds  \\\n",
       "15086  418514     980       825      35        17     124.49        124486   \n",
       "15087  418515     980       825      36        17     109.13        109126   \n",
       "15088  418516     980       825      37        17     109.25        109253   \n",
       "15089  418517     980       825      38        17     110.10        110101   \n",
       "15090  418518     980       825      39        17     110.38        110383   \n",
       "15091  418519     980       825      40        17     110.33        110327   \n",
       "15092  418520     980       825      41        17     110.20        110202   \n",
       "15093  418521     980       825      42        16     110.44        110441   \n",
       "15094  418522     980       825      43        16     111.02        111017   \n",
       "15095  418523     980       825      44        15     110.57        110565   \n",
       "\n",
       "       circuitID  Year  \n",
       "15086         13  2017  \n",
       "15087         13  2017  \n",
       "15088         13  2017  \n",
       "15089         13  2017  \n",
       "15090         13  2017  \n",
       "15091         13  2017  \n",
       "15092         13  2017  \n",
       "15093         13  2017  \n",
       "15094         13  2017  \n",
       "15095         13  2017  "
      ]
     },
     "execution_count": 14,
     "metadata": {},
     "output_type": "execute_result"
    }
   ],
   "source": [
    "df.tail(10)"
   ]
  },
  {
   "cell_type": "code",
   "execution_count": 15,
   "metadata": {},
   "outputs": [
    {
     "data": {
      "text/plain": [
       "lapId           0\n",
       "raceId          0\n",
       "driverId        0\n",
       "no_lap          0\n",
       "position        0\n",
       "time_secs       0\n",
       "milliseconds    0\n",
       "circuitID       0\n",
       "Year            0\n",
       "dtype: int64"
      ]
     },
     "execution_count": 15,
     "metadata": {},
     "output_type": "execute_result"
    }
   ],
   "source": [
    "df.isna().sum()"
   ]
  },
  {
   "cell_type": "code",
   "execution_count": 27,
   "metadata": {},
   "outputs": [],
   "source": [
    "X = df[['circuitID', 'Year']]"
   ]
  },
  {
   "cell_type": "code",
   "execution_count": 28,
   "metadata": {},
   "outputs": [],
   "source": [
    "y = df['time_secs']\n",
    "y = df['time_secs'].values.reshape(-1, 1)"
   ]
  },
  {
   "cell_type": "code",
   "execution_count": 29,
   "metadata": {},
   "outputs": [],
   "source": [
    "X_train, X_test, y_train, y_test = \\\n",
    "    train_test_split(X, y, random_state=11)\n"
   ]
  },
  {
   "cell_type": "code",
   "execution_count": 30,
   "metadata": {},
   "outputs": [
    {
     "data": {
      "text/plain": [
       "LinearRegression(copy_X=True, fit_intercept=True, n_jobs=1, normalize=False)"
      ]
     },
     "execution_count": 30,
     "metadata": {},
     "output_type": "execute_result"
    }
   ],
   "source": [
    "linear_regression = LinearRegression()\n",
    "linear_regression.fit(X=X_train, y=y_train)"
   ]
  },
  {
   "cell_type": "code",
   "execution_count": 31,
   "metadata": {},
   "outputs": [
    {
     "name": "stdout",
     "output_type": "stream",
     "text": [
      "Shape of training set = (11322, 2)\n",
      "Shape of testing  set = (3774, 2)\n"
     ]
    }
   ],
   "source": [
    "print(f'Shape of training set = {X_train.shape}')\n",
    "print(f'Shape of testing  set = {X_test.shape}')"
   ]
  },
  {
   "cell_type": "code",
   "execution_count": 32,
   "metadata": {},
   "outputs": [
    {
     "name": "stdout",
     "output_type": "stream",
     "text": [
      "regression coefficient (slope) = [[ 0.         -0.15737009]]\n",
      "                     intercept = [437.97774313]\n"
     ]
    }
   ],
   "source": [
    "#training\n",
    "from sklearn.linear_model import LinearRegression\n",
    "\n",
    "linear_regression = LinearRegression()\n",
    "linear_regression.fit(X=X_train, y=y_train)\n",
    "\n",
    "print(f'regression coefficient (slope) = {linear_regression.coef_}')\n",
    "print(f'                     intercept = {linear_regression.intercept_}')"
   ]
  },
  {
   "cell_type": "code",
   "execution_count": 34,
   "metadata": {},
   "outputs": [],
   "source": [
    "y_pred = linear_regression.predict(X_test)\n"
   ]
  },
  {
   "cell_type": "code",
   "execution_count": 35,
   "metadata": {},
   "outputs": [
    {
     "data": {
      "image/png": "[encoded data removed]",
      "text/plain": [
       "<Figure size 1152x648 with 1 Axes>"
      ]
     },
     "metadata": {},
     "output_type": "display_data"
    }
   ],
   "source": [
    "plt.figure(figsize=(16, 9))\n",
    "sns.scatterplot(x=y_test.flatten(), y=y_pred.flatten(), palette='cool')\n",
    "plt.xlabel('Actual time_secs')\n",
    "plt.ylabel('Predicted time_secs')\n",
    "plt.title('Linear Regression Model Predictions')\n",
    "plt.show()"
   ]
  },
  {
   "cell_type": "code",
   "execution_count": 57,
   "metadata": {},
   "outputs": [
    {
     "name": "stdout",
     "output_type": "stream",
     "text": [
      "The estimated time_secs for circuit 13 in 2023 is 119.62\n"
     ]
    }
   ],
   "source": [
    "#predicting\n",
    "Year = 2023\n",
    "circuitID = 13\n",
    "X_new = [[circuitID, Year]]\n",
    "time_lap_predict = linear_regression.predict(X_new)[0]\n",
    "\n",
    "print(f'The estimated time_secs for circuit {circuitID} in {Year} is {time_lap_predict[0]:.2f}')\n"
   ]
  },
  {
   "cell_type": "code",
   "execution_count": 59,
   "metadata": {},
   "outputs": [
    {
     "name": "stdout",
     "output_type": "stream",
     "text": [
      "The estimated time_secs for circuit 13 in 2030 is 118.52\n"
     ]
    }
   ],
   "source": [
    "#predicting\n",
    "Year = 2030\n",
    "circuitID = 13\n",
    "X_new = [[circuitID, Year]]\n",
    "time_lap_predict = linear_regression.predict(X_new)[0]\n",
    "\n",
    "print(f'The estimated time_secs for circuit {circuitID} in {Year} is {time_lap_predict[0]:.2f}')\n"
   ]
  },
  {
   "cell_type": "markdown",
   "metadata": {},
   "source": [
    " we see that after applying linear regression over the years the time in seconds reduces for a particular circuitID "
   ]
  },
  {
   "cell_type": "markdown",
   "metadata": {},
   "source": [
    "which also resembles to the normal theoritical concept as the tech domain expands the mobility power increases and thereby reduces the time "
   ]
  }
 ],
 "metadata": {
  "kernelspec": {
   "display_name": "Python 3",
   "language": "python",
   "name": "python3"
  },
  "language_info": {
   "codemirror_mode": {
    "name": "ipython",
    "version": 3
   },
   "file_extension": ".py",
   "mimetype": "text/x-python",
   "name": "python",
   "nbconvert_exporter": "python",
   "pygments_lexer": "ipython3",
   "version": "3.6.5"
  }
 },
 "nbformat": 4,
 "nbformat_minor": 2
}
